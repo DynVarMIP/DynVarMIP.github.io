{
 "cells": [
  {
   "cell_type": "markdown",
   "metadata": {},
   "source": [
    "# Leaflet cluster map of talk locations\n",
    "\n",
    "Run this from the _talks/ directory, which contains .md files of all your talks. This scrapes the location YAML field from each .md file, geolocates it with geopy/Nominatim, and uses the getorg library to output data, HTML, and Javascript for a standalone cluster map."
   ]
  },
  {
   "cell_type": "code",
   "execution_count": 11,
   "metadata": {},
   "outputs": [
    {
     "name": "stdout",
     "output_type": "stream",
     "text": [
      "Requirement already up-to-date: getorg in /anaconda3/lib/python3.6/site-packages (0.3.1)\n",
      "Requirement not upgraded as not directly required: geopy in /anaconda3/lib/python3.6/site-packages (from getorg) (1.16.0)\n",
      "Requirement not upgraded as not directly required: retrying in /anaconda3/lib/python3.6/site-packages (from getorg) (1.3.3)\n",
      "Requirement not upgraded as not directly required: pygithub in /anaconda3/lib/python3.6/site-packages (from getorg) (1.40)\n",
      "Requirement not upgraded as not directly required: geographiclib<2,>=1.49 in /anaconda3/lib/python3.6/site-packages (from geopy->getorg) (1.49)\n",
      "Requirement not upgraded as not directly required: six>=1.7.0 in /anaconda3/lib/python3.6/site-packages (from retrying->getorg) (1.11.0)\n",
      "Requirement not upgraded as not directly required: pyjwt in /anaconda3/lib/python3.6/site-packages (from pygithub->getorg) (1.6.4)\n",
      "Requirement not upgraded as not directly required: requests>=2.14.0 in /anaconda3/lib/python3.6/site-packages (from pygithub->getorg) (2.18.4)\n",
      "Requirement not upgraded as not directly required: chardet<3.1.0,>=3.0.2 in /anaconda3/lib/python3.6/site-packages (from requests>=2.14.0->pygithub->getorg) (3.0.4)\n",
      "Requirement not upgraded as not directly required: idna<2.7,>=2.5 in /anaconda3/lib/python3.6/site-packages (from requests>=2.14.0->pygithub->getorg) (2.6)\n",
      "Requirement not upgraded as not directly required: urllib3<1.23,>=1.21.1 in /anaconda3/lib/python3.6/site-packages (from requests>=2.14.0->pygithub->getorg) (1.22)\n",
      "Requirement not upgraded as not directly required: certifi>=2017.4.17 in /anaconda3/lib/python3.6/site-packages (from requests>=2.14.0->pygithub->getorg) (2018.4.16)\n",
      "\u001b[31mdistributed 1.21.8 requires msgpack, which is not installed.\u001b[0m\n",
      "\u001b[33mYou are using pip version 10.0.1, however version 19.3.1 is available.\n",
      "You should consider upgrading via the 'pip install --upgrade pip' command.\u001b[0m\n"
     ]
    }
   ],
   "source": [
    "!pip install getorg --upgrade\n",
    "import glob\n",
    "import getorg\n",
    "from geopy import Nominatim"
   ]
  },
  {
   "cell_type": "code",
   "execution_count": 12,
   "metadata": {},
   "outputs": [],
   "source": [
    "g = glob.glob(\"*.md\")"
   ]
  },
  {
   "cell_type": "code",
   "execution_count": 13,
   "metadata": {},
   "outputs": [
    {
     "name": "stderr",
     "output_type": "stream",
     "text": [
      "/anaconda3/lib/python3.6/site-packages/geopy/geocoders/osm.py:138: UserWarning: Using Nominatim with the default \"geopy/1.16.0\" `user_agent` is strongly discouraged, as it violates Nominatim's ToS https://operations.osmfoundation.org/policies/nominatim/ and may possibly cause 403 and 429 HTTP errors. Please specify a custom `user_agent` with `Nominatim(user_agent=\"my-application\")` or by overriding the default `user_agent`: `geopy.geocoders.options.default_user_agent = \"my-application\"`. In geopy 2.0 this will become an exception.\n",
      "  UserWarning\n"
     ]
    }
   ],
   "source": [
    "geocoder = Nominatim()\n",
    "location_dict = {}\n",
    "location = \"\"\n",
    "permalink = \"\"\n",
    "title = \"\""
   ]
  },
  {
   "cell_type": "code",
   "execution_count": 14,
   "metadata": {},
   "outputs": [
    {
     "name": "stdout",
     "output_type": "stream",
     "text": [
      "Vienna, Austria \n",
      " Wien, 1010, Österreich\n",
      "Boulder CO \n",
      " Boulder County, Colorado, United States of America\n",
      "Montreal, Canada \n",
      " Montréal, Agglomération de Montréal, Montréal (06), Québec, Canada\n",
      "San Francisco California \n",
      " San Francisco, San Francisco City and County, California, United States of America\n",
      "Grindelwald, Switzerland \n",
      " Grindelwald, Verwaltungskreis Interlaken-Oberhasli, Verwaltungsregion Oberland, Bern/Berne, 3818, Schweiz/Suisse/Svizzera/Svizra\n",
      "New York NY \n",
      " New York, United States of America\n",
      "San Francisco California \n",
      " San Francisco, San Francisco City and County, California, United States of America\n",
      "Reinstorf, Germany \n",
      " Reinstorf, Samtgemeinde Ostheide, Lüneburg, Niedersachsen, 21400, Deutschland\n",
      "Boulder CO \n",
      " Boulder County, Colorado, United States of America\n",
      "Palo Alto CA \n",
      " Palo Alto, Santa Clara County, California, United States of America\n",
      "New York NY \n",
      " New York, United States of America\n",
      "Portland Maine \n",
      " Portland, Cumberland County, Maine, United States of America\n",
      "Palo Alto CA \n",
      " Palo Alto, Santa Clara County, California, United States of America\n",
      "Oberwolfach, Germany \n",
      " Oberwolfach, Verwaltungsgemeinschaft Wolfach, Ortenaukreis, Regierungsbezirk Freiburg, Baden-Württemberg, Deutschland\n",
      "Queenstown, New Zealand \n",
      " Queenstown, Queenstown-Lakes District, Otago, 9348, New Zealand / Aotearoa\n",
      "Uto, Stockholm, Sweden \n",
      " Utö, Haninge kommun, Sveriges Landskap, Stockholms län, Svealand, Sverige\n",
      "Zurich, Switzerland \n",
      " Zürich, Bezirk Zürich, Zürich, Schweiz/Suisse/Svizzera/Svizra\n",
      "Berlin, Germany \n",
      " Berlin, 10117, Deutschland\n",
      "Palisades NY \n",
      " Palisades, Town of Orangetown, Rockland County, New York, 10964, United States\n",
      "Grindelwald, Switzerland \n",
      " Grindelwald, Verwaltungskreis Interlaken-Oberhasli, Verwaltungsregion Oberland, Bern/Berne, 3818, Schweiz/Suisse/Svizzera/Svizra\n",
      "Denver CO \n",
      " Denver County, Colorado, United States\n",
      "Buenos Aires, Argentina \n",
      " Buenos Aires, Ciudad Autónoma de Buenos Aires, Argentina\n",
      "Princeton NJ \n",
      " Princeton, Mercer County, New Jersey, United States of America\n",
      "Los Angeles CA \n",
      " Los Angeles, Los Angeles County, California, United States of America\n",
      "Toronto, Canada \n",
      " Toronto, Golden Horseshoe, Ontario, M6K 1X9, Canada\n",
      "Cambridge MA \n",
      " Cambridge, Middlesex County, Massachusetts, United States of America\n",
      "Madrid, Spain \n",
      " Madrid, Área metropolitana de Madrid y Corredor del Henares, Comunidad de Madrid, 28001, España\n",
      "Phoenix AZ \n",
      " Phoenix, Maricopa County, Arizona, United States of America\n",
      "Kyoto, Japan \n",
      " 京都市, 京都府, 近畿地方, 日本 (Japan)\n",
      "Palisades NY \n",
      " Palisades, Town of Orangetown, Rockland County, New York, 10964, United States\n",
      "Reading, UK \n",
      " Reading, South East, England, United Kingdom\n",
      "State College PA \n",
      " State College, Centre County, Pennsylvania, United States of America\n",
      "Eilat, Israel \n",
      " אילת, מחוז הדרום, 88112, ישראל\n"
     ]
    }
   ],
   "source": [
    "\n",
    "for file in g:\n",
    "    with open(file, 'r') as f:\n",
    "        lines = f.read()\n",
    "        if lines.find('location: \"') > 1:\n",
    "            loc_start = lines.find('location: \"') + 11\n",
    "            lines_trim = lines[loc_start:]\n",
    "            loc_end = lines_trim.find('\"')\n",
    "            location = lines_trim[:loc_end]\n",
    "                            \n",
    "           \n",
    "        location_dict[location] = geocoder.geocode(location)\n",
    "        print(location, \"\\n\", location_dict[location])\n"
   ]
  },
  {
   "cell_type": "code",
   "execution_count": 15,
   "metadata": {},
   "outputs": [
    {
     "data": {
      "text/plain": [
       "'Written map to ../talkmap/'"
      ]
     },
     "execution_count": 15,
     "metadata": {},
     "output_type": "execute_result"
    }
   ],
   "source": [
    "m = getorg.orgmap.create_map_obj()\n",
    "getorg.orgmap.output_html_cluster_map(location_dict, folder_name=\"../talkmap\", hashed_usernames=False)"
   ]
  },
  {
   "cell_type": "code",
   "execution_count": null,
   "metadata": {},
   "outputs": [],
   "source": []
  },
  {
   "cell_type": "code",
   "execution_count": null,
   "metadata": {},
   "outputs": [],
   "source": []
  }
 ],
 "metadata": {
  "anaconda-cloud": {},
  "kernelspec": {
   "display_name": "Python 3",
   "language": "python",
   "name": "python3"
  },
  "language_info": {
   "codemirror_mode": {
    "name": "ipython",
    "version": 3
   },
   "file_extension": ".py",
   "mimetype": "text/x-python",
   "name": "python",
   "nbconvert_exporter": "python",
   "pygments_lexer": "ipython3",
   "version": "3.6.5"
  }
 },
 "nbformat": 4,
 "nbformat_minor": 1
}
